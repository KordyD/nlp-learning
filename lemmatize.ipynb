{
 "cells": [
  {
   "cell_type": "markdown",
   "metadata": {},
   "source": [
    "Добрый день. Коротко про домашнее задание, напоминание - нужно сделать предобработку текста по той коллекции, которая появилась на паре - привести к общему виду (лемматизировать), привести к нижнему регистру, решить как быть и обработать пунктуацию, решать как быть со стоп-словами, сделать фильтр по частям речи."
   ]
  },
  {
   "cell_type": "code",
   "execution_count": 1,
   "metadata": {},
   "outputs": [],
   "source": [
    "collection = []\n",
    "with open('collection.txt', 'r', encoding='utf-8') as file:\n",
    "    for line in file:\n",
    "        if not line.startswith('['):\n",
    "            if not line.startswith('\\n'):\n",
    "                line = line.replace('\\n', '')\n",
    "                if not line.endswith('.'):\n",
    "                    line += '.'\n",
    "                collection.append(line)\n",
    "            \n",
    "\n",
    "text = ' '.join(collection)"
   ]
  },
  {
   "cell_type": "markdown",
   "metadata": {},
   "source": [
    "### NLTK (без поддержки русского)"
   ]
  },
  {
   "cell_type": "code",
   "execution_count": 41,
   "metadata": {},
   "outputs": [
    {
     "name": "stderr",
     "output_type": "stream",
     "text": [
      "[nltk_data] Downloading package wordnet to\n",
      "[nltk_data]     C:\\Users\\dimak\\AppData\\Roaming\\nltk_data...\n"
     ]
    },
    {
     "data": {
      "text/plain": [
       "True"
      ]
     },
     "execution_count": 41,
     "metadata": {},
     "output_type": "execute_result"
    }
   ],
   "source": [
    "import nltk\n",
    "nltk.download('wordnet')"
   ]
  },
  {
   "cell_type": "code",
   "execution_count": 46,
   "metadata": {},
   "outputs": [
    {
     "name": "stderr",
     "output_type": "stream",
     "text": [
      "[nltk_data] Downloading collection 'popular'\n",
      "[nltk_data]    | \n",
      "[nltk_data]    | Downloading package cmudict to\n",
      "[nltk_data]    |     C:\\Users\\dimak\\AppData\\Roaming\\nltk_data...\n",
      "[nltk_data]    |   Unzipping corpora\\cmudict.zip.\n",
      "[nltk_data]    | Downloading package gazetteers to\n",
      "[nltk_data]    |     C:\\Users\\dimak\\AppData\\Roaming\\nltk_data...\n",
      "[nltk_data]    |   Unzipping corpora\\gazetteers.zip.\n",
      "[nltk_data]    | Downloading package genesis to\n",
      "[nltk_data]    |     C:\\Users\\dimak\\AppData\\Roaming\\nltk_data...\n",
      "[nltk_data]    |   Unzipping corpora\\genesis.zip.\n",
      "[nltk_data]    | Downloading package gutenberg to\n",
      "[nltk_data]    |     C:\\Users\\dimak\\AppData\\Roaming\\nltk_data...\n",
      "[nltk_data]    |   Unzipping corpora\\gutenberg.zip.\n",
      "[nltk_data]    | Downloading package inaugural to\n",
      "[nltk_data]    |     C:\\Users\\dimak\\AppData\\Roaming\\nltk_data...\n",
      "[nltk_data]    |   Unzipping corpora\\inaugural.zip.\n",
      "[nltk_data]    | Downloading package movie_reviews to\n",
      "[nltk_data]    |     C:\\Users\\dimak\\AppData\\Roaming\\nltk_data...\n",
      "[nltk_data]    |   Unzipping corpora\\movie_reviews.zip.\n",
      "[nltk_data]    | Downloading package names to\n",
      "[nltk_data]    |     C:\\Users\\dimak\\AppData\\Roaming\\nltk_data...\n",
      "[nltk_data]    |   Unzipping corpora\\names.zip.\n",
      "[nltk_data]    | Downloading package shakespeare to\n",
      "[nltk_data]    |     C:\\Users\\dimak\\AppData\\Roaming\\nltk_data...\n",
      "[nltk_data]    |   Unzipping corpora\\shakespeare.zip.\n",
      "[nltk_data]    | Downloading package stopwords to\n",
      "[nltk_data]    |     C:\\Users\\dimak\\AppData\\Roaming\\nltk_data...\n",
      "[nltk_data]    |   Unzipping corpora\\stopwords.zip.\n",
      "[nltk_data]    | Downloading package treebank to\n",
      "[nltk_data]    |     C:\\Users\\dimak\\AppData\\Roaming\\nltk_data...\n",
      "[nltk_data]    |   Unzipping corpora\\treebank.zip.\n",
      "[nltk_data]    | Downloading package twitter_samples to\n",
      "[nltk_data]    |     C:\\Users\\dimak\\AppData\\Roaming\\nltk_data...\n",
      "[nltk_data]    |   Unzipping corpora\\twitter_samples.zip.\n",
      "[nltk_data]    | Downloading package omw to\n",
      "[nltk_data]    |     C:\\Users\\dimak\\AppData\\Roaming\\nltk_data...\n",
      "[nltk_data]    | Downloading package omw-1.4 to\n",
      "[nltk_data]    |     C:\\Users\\dimak\\AppData\\Roaming\\nltk_data...\n",
      "[nltk_data]    | Downloading package wordnet to\n",
      "[nltk_data]    |     C:\\Users\\dimak\\AppData\\Roaming\\nltk_data...\n",
      "[nltk_data]    |   Package wordnet is already up-to-date!\n",
      "[nltk_data]    | Downloading package wordnet2021 to\n",
      "[nltk_data]    |     C:\\Users\\dimak\\AppData\\Roaming\\nltk_data...\n",
      "[nltk_data]    | Downloading package wordnet31 to\n",
      "[nltk_data]    |     C:\\Users\\dimak\\AppData\\Roaming\\nltk_data...\n",
      "[nltk_data]    | Downloading package wordnet_ic to\n",
      "[nltk_data]    |     C:\\Users\\dimak\\AppData\\Roaming\\nltk_data...\n",
      "[nltk_data]    |   Unzipping corpora\\wordnet_ic.zip.\n",
      "[nltk_data]    | Downloading package words to\n",
      "[nltk_data]    |     C:\\Users\\dimak\\AppData\\Roaming\\nltk_data...\n",
      "[nltk_data]    |   Unzipping corpora\\words.zip.\n",
      "[nltk_data]    | Downloading package maxent_ne_chunker to\n",
      "[nltk_data]    |     C:\\Users\\dimak\\AppData\\Roaming\\nltk_data...\n",
      "[nltk_data]    |   Unzipping chunkers\\maxent_ne_chunker.zip.\n",
      "[nltk_data]    | Downloading package punkt to\n",
      "[nltk_data]    |     C:\\Users\\dimak\\AppData\\Roaming\\nltk_data...\n",
      "[nltk_data]    |   Unzipping tokenizers\\punkt.zip.\n",
      "[nltk_data]    | Downloading package snowball_data to\n",
      "[nltk_data]    |     C:\\Users\\dimak\\AppData\\Roaming\\nltk_data...\n",
      "[nltk_data]    | Downloading package averaged_perceptron_tagger to\n",
      "[nltk_data]    |     C:\\Users\\dimak\\AppData\\Roaming\\nltk_data...\n",
      "[nltk_data]    |   Unzipping taggers\\averaged_perceptron_tagger.zip.\n",
      "[nltk_data]    | \n",
      "[nltk_data]  Done downloading collection popular\n"
     ]
    },
    {
     "data": {
      "text/plain": [
       "True"
      ]
     },
     "execution_count": 46,
     "metadata": {},
     "output_type": "execute_result"
    }
   ],
   "source": [
    "nltk.download('popular')"
   ]
  },
  {
   "cell_type": "code",
   "execution_count": 51,
   "metadata": {},
   "outputs": [
    {
     "name": "stdout",
     "output_type": "stream",
     "text": [
      "['Будет', 'солнечно', '.', 'Солнечно', 'до', 'конца', 'дня', '.', 'В', 'Красносельском', 'районе', 'как', 'всегда', 'ветер', '.', 'Сегодня', 'будет', 'солнечно', ',', 'ясное', 'небо', ',', 'ни', 'облачка', 'не', 'появится', '.', 'Ночь', 'чистая', ',', 'можно', 'будет', 'даже', 'звёзды', 'увидеть', '.', 'Температура', 'опустится', 'сразу', 'на', '6-7', 'градусов', ',', 'так', 'что', 'на', 'улице', 'днем', 'будет', 'не', 'выше', 'плюс', '13', '.', 'Ощущение', 'холода', 'будут', 'усиливать', 'дожди', ',', 'которые', 'начнутся', 'в', 'последний', 'день', 'этой', 'недели', 'и', 'затем', 'будут', 'идти', 'несколько', 'суток', '.', 'Сегодня', 'ясно', ',', 'без', 'осадков', '.', 'Атмосферное', 'давление', 'выше', 'нормы', '.', 'Сегодня', 'довольно', 'теплая', 'для', 'сентября', 'погода', '.', 'Небо', 'ясное', 'и', 'осадков', 'не', 'ожидается', '.', 'Так', 'что', 'прогноз', 'на', 'сегодня', 'очень', 'приятный', '.', 'В', 'Санкт-Петербурге', 'сегодня', 'ожидается', '+20', '..', '+18', '°C', ',', 'без', 'осадков', ',', 'легкий', 'ветер', '.', 'Трудно', 'с', 'ходу', 'назвать', 'фильм', ',', 'который', 'породил', 'столько', 'же', 'абсурдных', 'пародий', '.', 'Данное', 'творение', 'несмотря', 'на', 'свою', '«', 'трешовость', '»', ',', 'снискал', 'огромное', 'количество', 'поклонников', '.', 'Трагикомедия', ',', 'которая', 'показывает', 'последние', 'дни', 'двух', 'молодых', 'людей', 'со', 'смертельными', 'диагнозами', '.', 'Фильм', 'явно', 'тянет', 'на', 'премию', 'Оскар', ',', 'проработанный', 'сюжет', ',', 'очень', 'красивая', ',', 'завораживающая', 'картинка', 'и', 'я', 'верю', ',', 'что', 'он', 'не', 'умер', 'в', 'конце', 'фильма', '.', 'Еще', 'долго', 'после', 'просмотра', 'фильма', 'я', 'и', 'мои', 'друзья', 'повторяли', 'такие', 'легендарные', 'фразы', 'главного', 'героя', ',', 'как', '«', 'водка', 'внутри', '—', 'снаружи', 'бутылка', '»', 'и', '«', 'ю', 'вонна', 'плей', '—', 'лэтс', 'плей', '»', ',', 'не', 'забывая', 'при', 'этом', 'делать', 'губы', '«', 'бантиком', '»', '.', 'Ковер', 'действительно', 'задавал', 'весь', 'стиль', 'комнате', '.']\n",
      "['Будет', 'солнечно', '.', 'Солнечно', 'до', 'конца', 'дня', '.', 'В', 'Красносельском', 'районе', 'как', 'всегда', 'ветер', '.', 'Сегодня', 'будет', 'солнечно', ',', 'ясное', 'небо', ',', 'ни', 'облачка', 'не', 'появится', '.', 'Ночь', 'чистая', ',', 'можно', 'будет', 'даже', 'звёзды', 'увидеть', '.', 'Температура', 'опустится', 'сразу', 'на', '6-7', 'градусов', ',', 'так', 'что', 'на', 'улице', 'днем', 'будет', 'не', 'выше', 'плюс', '13', '.', 'Ощущение', 'холода', 'будут', 'усиливать', 'дожди', ',', 'которые', 'начнутся', 'в', 'последний', 'день', 'этой', 'недели', 'и', 'затем', 'будут', 'идти', 'несколько', 'суток', '.', 'Сегодня', 'ясно', ',', 'без', 'осадков', '.', 'Атмосферное', 'давление', 'выше', 'нормы', '.', 'Сегодня', 'довольно', 'теплая', 'для', 'сентября', 'погода', '.', 'Небо', 'ясное', 'и', 'осадков', 'не', 'ожидается', '.', 'Так', 'что', 'прогноз', 'на', 'сегодня', 'очень', 'приятный', '.', 'В', 'Санкт-Петербурге', 'сегодня', 'ожидается', '+20', '..', '+18', '°C', ',', 'без', 'осадков', ',', 'легкий', 'ветер', '.', 'Трудно', 'с', 'ходу', 'назвать', 'фильм', ',', 'который', 'породил', 'столько', 'же', 'абсурдных', 'пародий', '.', 'Данное', 'творение', 'несмотря', 'на', 'свою', '«', 'трешовость', '»', ',', 'снискал', 'огромное', 'количество', 'поклонников', '.', 'Трагикомедия', ',', 'которая', 'показывает', 'последние', 'дни', 'двух', 'молодых', 'людей', 'со', 'смертельными', 'диагнозами', '.', 'Фильм', 'явно', 'тянет', 'на', 'премию', 'Оскар', ',', 'проработанный', 'сюжет', ',', 'очень', 'красивая', ',', 'завораживающая', 'картинка', 'и', 'я', 'верю', ',', 'что', 'он', 'не', 'умер', 'в', 'конце', 'фильма', '.', 'Еще', 'долго', 'после', 'просмотра', 'фильма', 'я', 'и', 'мои', 'друзья', 'повторяли', 'такие', 'легендарные', 'фразы', 'главного', 'героя', ',', 'как', '«', 'водка', 'внутри', '—', 'снаружи', 'бутылка', '»', 'и', '«', 'ю', 'вонна', 'плей', '—', 'лэтс', 'плей', '»', ',', 'не', 'забывая', 'при', 'этом', 'делать', 'губы', '«', 'бантиком', '»', '.', 'Ковер', 'действительно', 'задавал', 'весь', 'стиль', 'комнате', '.']\n"
     ]
    }
   ],
   "source": [
    "from nltk.stem import WordNetLemmatizer\n",
    "\n",
    "word_list = nltk.word_tokenize(text)\n",
    "print(word_list)\n",
    "\n",
    "lemmatizer = WordNetLemmatizer()\n",
    "\n",
    "lemmatized_output = [lemmatizer.lemmatize(word) for word in word_list]\n",
    "print(lemmatized_output)"
   ]
  },
  {
   "cell_type": "markdown",
   "metadata": {},
   "source": [
    "### SpaCy (с поддержкой русского)"
   ]
  },
  {
   "cell_type": "code",
   "execution_count": 2,
   "metadata": {},
   "outputs": [
    {
     "name": "stdout",
     "output_type": "stream",
     "text": [
      "Будет солнечно. Солнечно до конца дня. В Красносельском районе как всегда ветер. Сегодня будет солнечно, ясное небо, ни облачка не появится. Ночь чистая, можно будет даже звёзды увидеть. Температура опустится сразу на 6-7 градусов, так что на улице днем будет не выше плюс 13. Ощущение холода будут усиливать дожди, которые начнутся в последний день этой недели и затем будут идти несколько суток. Сегодня ясно, без осадков. Атмосферное давление выше нормы. Сегодня довольно теплая для сентября погода. Небо ясное и осадков не ожидается. Так что прогноз на сегодня очень приятный. В Санкт-Петербурге сегодня ожидается +20..+18 °C, без осадков, легкий ветер. Трудно с ходу назвать фильм, который породил столько же абсурдных пародий. Данное творение несмотря на свою «трешовость», снискал огромное количество поклонников. Трагикомедия, которая показывает последние дни двух молодых людей со смертельными диагнозами. Фильм явно тянет на премию Оскар, проработанный сюжет, очень красивая, завораживающая картинка и я верю, что он не умер в конце фильма. Еще долго после просмотра фильма я и мои друзья повторяли такие легендарные фразы главного героя, как «водка внутри — снаружи бутылка» и «ю вонна плей — лэтс плей», не забывая при этом делать губы «бантиком». Ковер действительно задавал весь стиль комнате.\n",
      "['солнечный', 'солнечно', 'конец', 'день', 'красносельский', 'район', 'ветер', 'сегодня', 'солнечный', 'ясный', 'небо', 'ни', 'облачка', 'появиться', 'ночь', 'чистый', 'звёзды', 'увидеть', 'температура', 'опуститься', '6', '7', 'градус', 'улица', 'день', 'высоко', 'плюс', '13', 'ощущение', 'холод', 'усиливать', 'дождь', 'начаться', 'последний', 'день', 'неделя', 'идти', 'суток', 'сегодня', 'ясный', 'осадок', 'атмосферный', 'давление', 'высоко', 'норма', 'сегодня', 'тёплый', 'сентябрь', 'погода', 'небо', 'ясный', 'осадок', 'ожидаться', 'прогноз', 'сегодня', 'приятный', 'санкт', 'петербург', 'сегодня', 'ожидаться', '+20', '..', '+18', '°', 'c', 'осадок', 'лёгкий', 'ветер', 'трудный', 'ход', 'назвать', 'фильм', 'породить', 'столько', 'абсурдный', 'пародия', 'творение', 'несмотря', 'трешовость', 'снискал', 'огромный', 'количество', 'поклонник', 'трагикомедия', 'показывать', 'последний', 'день', 'два', 'молодой', 'человек', 'смертельный', 'диагноз', 'фильм', 'тянуть', 'премия', 'оскар', 'проработанный', 'сюжет', 'красивый', 'завораживать', 'картинка', 'верить', 'умереть', 'конец', 'фильм', 'просмотр', 'фильм', 'друг', 'повторять', 'легендарный', 'фраза', 'главный', 'герой', 'водка', 'внутри', '—', 'снаружи', 'бутылка', 'вонна', 'плей', '—', 'лэтс', 'плей', 'забывать', 'делать', 'губа', 'бантик', 'ковёр', 'задавать', 'стиль', 'комната']\n",
      "[появится, увидеть, опустится, усиливать, начнутся, идти, ожидается, ожидается, назвать, породил, снискал, показывает, тянет, завораживающая, верю, умер, повторяли, забывая, делать, задавал]\n",
      "[конца, дня, районе, ветер, небо, облачка, Ночь, Температура, градусов, улице, днем, Ощущение, холода, дожди, день, недели, суток, осадков, давление, нормы, сентября, погода, Небо, осадков, прогноз, сегодня, C, осадков, ветер, ходу, фильм, пародий, творение, трешовость, количество, поклонников, Трагикомедия, дни, людей, диагнозами, Фильм, премию, сюжет, картинка, конце, фильма, просмотра, фильма, друзья, фразы, героя, водка, бутылка, лэтс, плей, губы, бантиком, Ковер, стиль, комнате]\n"
     ]
    }
   ],
   "source": [
    "import spacy\n",
    "from string import punctuation\n",
    "from spacy.lang.ru import stop_words\n",
    "\n",
    "nlp = spacy.load('ru_core_news_sm')\n",
    "\n",
    "stop_words = stop_words.STOP_WORDS\n",
    "punctuations = list(punctuation)\n",
    "\n",
    "doc = nlp(text)\n",
    "\n",
    "token_collection= []\n",
    "\n",
    "print(text)\n",
    "\n",
    "for token in doc:\n",
    "    token_collection.append(token.lemma_.lower())\n",
    "\n",
    "token_collection = [word for word in token_collection if word not in stop_words and word not in punctuations]\n",
    "print(token_collection)\n",
    "\n",
    "verbs = [token for token in doc if token.pos_ == 'VERB']\n",
    "nouns = [token for token in doc if token.pos_ == 'NOUN']\n",
    "print(verbs)\n",
    "print(nouns)"
   ]
  }
 ],
 "metadata": {
  "kernelspec": {
   "display_name": "venv",
   "language": "python",
   "name": "python3"
  },
  "language_info": {
   "codemirror_mode": {
    "name": "ipython",
    "version": 3
   },
   "file_extension": ".py",
   "mimetype": "text/x-python",
   "name": "python",
   "nbconvert_exporter": "python",
   "pygments_lexer": "ipython3",
   "version": "3.10.8"
  },
  "orig_nbformat": 4
 },
 "nbformat": 4,
 "nbformat_minor": 2
}
