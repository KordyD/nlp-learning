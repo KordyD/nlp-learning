{
 "cells": [
  {
   "cell_type": "markdown",
   "metadata": {},
   "source": [
    "### Обработка текста"
   ]
  },
  {
   "cell_type": "code",
   "execution_count": 56,
   "metadata": {},
   "outputs": [
    {
     "name": "stdout",
     "output_type": "stream",
     "text": [
      "['Будет солнечно', 'Солнечно до конца дня. В Красносельском районе как всегда ветер', 'Сегодня будет солнечно, ясное небо, ни облачка не появится. Ночь чистая, можно будет даже звёзды увидеть', 'Температура опустится сразу на 6-7 градусов, так что на улице днем будет не выше плюс 13. Ощущение холода будут усиливать дожди, которые начнутся в последний день этой недели и затем будут идти несколько суток', 'Сегодня ясно, без осадков. Атмосферное давление выше нормы.', 'Сегодня довольно теплая для сентября погода. Небо ясное и осадков не ожидается. Так что прогноз на сегодня очень приятный.', 'В Санкт-Петербурге сегодня ожидается +20..+18 °C, без осадков, легкий ветер.', 'Трудно с ходу назвать фильм, который породил столько же абсурдных пародий. Данное творение несмотря на свою «трешовость», снискал огромное количество поклонников', 'Трагикомедия, которая показывает последние дни двух молодых людей со смертельными диагнозами', 'Фильм явно тянет на премию Оскар, проработанный сюжет, очень красивая, завораживающая картинка и я верю, что он не умер в конце фильма', 'Еще долго после просмотра фильма я и мои друзья повторяли такие легендарные фразы главного героя, как «водка внутри — снаружи бутылка» и «ю вонна плей — лэтс плей», не забывая при этом делать губы «бантиком»', 'Ковер действительно задавал весь стиль комнате.']\n"
     ]
    }
   ],
   "source": [
    "collection = []\n",
    "with open('collection.txt', 'r', encoding='utf-8') as file:\n",
    "    for line in file:\n",
    "        if not line.startswith('['):\n",
    "            if not line.startswith('\\n'):\n",
    "                line = line.replace('\\n', '')\n",
    "                collection.append(line)\n",
    "\n",
    "print(collection)"
   ]
  },
  {
   "cell_type": "markdown",
   "metadata": {},
   "source": [
    "### Лемматизация (SpaCy)"
   ]
  },
  {
   "cell_type": "code",
   "execution_count": 57,
   "metadata": {},
   "outputs": [
    {
     "name": "stdout",
     "output_type": "stream",
     "text": [
      "[['солнечный'], ['солнечно', 'конец', 'день', 'красносельский', 'район', 'ветер'], ['сегодня', 'солнечный', 'ясный', 'небо', 'ни', 'облачка', 'появиться', 'ночь', 'чистый', 'звёзды', 'увидеть'], ['температура', 'опуститься', '6', '7', 'градус', 'улица', 'день', 'высоко', 'плюс', '13', 'ощущение', 'холод', 'усиливать', 'дождь', 'начаться', 'последний', 'день', 'неделя', 'идти', 'суток'], ['сегодня', 'ясный', 'осадок', 'атмосферный', 'давление', 'высоко', 'норма'], ['сегодня', 'тёплый', 'сентябрь', 'погода', 'небо', 'ясный', 'осадок', 'ожидаться', 'прогноз', 'сегодня', 'приятный'], ['санкт', 'петербург', 'сегодня', 'ожидаться', '+20', '+18', '°', 'c', 'осадок', 'лёгкий', 'ветер'], ['трудный', 'ход', 'назвать', 'фильм', 'породить', 'столько', 'абсурдный', 'пародия', 'творение', 'несмотря', 'трешовость', 'снискал', 'огромный', 'количество', 'поклонник'], ['трагикомедия', 'показывать', 'последний', 'день', 'два', 'молодой', 'человек', 'смертельный', 'диагноз'], ['фильм', 'тянуть', 'премия', 'оскар', 'проработанный', 'сюжет', 'красивый', 'завораживать', 'картинка', 'верить', 'умереть', 'конец', 'фильм'], ['просмотр', 'фильм', 'друг', 'повторять', 'легендарный', 'фраза', 'главный', 'герой', 'водка', 'внутри', 'снаружи', 'бутылка', 'вонна', 'плей', 'лэтс', 'плей', 'забывать', 'делать', 'губа', 'бантик'], ['ковёр', 'задавать', 'стиль', 'комната']]\n",
      "[[{'солнечный': 'ADJ'}], [{'солнечно': 'ADV'}, {'конец': 'NOUN'}, {'день': 'NOUN'}, {'красносельский': 'ADJ'}, {'район': 'NOUN'}, {'ветер': 'NOUN'}], [{'сегодня': 'ADV'}, {'солнечный': 'ADJ'}, {'ясный': 'ADJ'}, {'небо': 'NOUN'}, {'ни': 'CCONJ'}, {'облачка': 'NOUN'}, {'появиться': 'VERB'}, {'ночь': 'NOUN'}, {'чистый': 'ADJ'}, {'звёзды': 'ADJ'}, {'увидеть': 'VERB'}], [{'температура': 'NOUN'}, {'опуститься': 'VERB'}, {'6': 'NUM'}, {'7': 'NUM'}, {'градус': 'NOUN'}, {'улица': 'NOUN'}, {'день': 'NOUN'}, {'высоко': 'ADJ'}, {'плюс': 'ADP'}, {'13': 'NUM'}, {'ощущение': 'NOUN'}, {'холод': 'NOUN'}, {'усиливать': 'VERB'}, {'дождь': 'NOUN'}, {'начаться': 'VERB'}, {'последний': 'ADJ'}, {'день': 'NOUN'}, {'неделя': 'NOUN'}, {'идти': 'VERB'}, {'суток': 'NOUN'}], [{'сегодня': 'ADV'}, {'ясный': 'ADJ'}, {'осадок': 'NOUN'}, {'атмосферный': 'ADJ'}, {'давление': 'NOUN'}, {'высоко': 'ADJ'}, {'норма': 'NOUN'}], [{'сегодня': 'ADV'}, {'тёплый': 'ADJ'}, {'сентябрь': 'NOUN'}, {'погода': 'NOUN'}, {'небо': 'NOUN'}, {'ясный': 'ADJ'}, {'осадок': 'NOUN'}, {'ожидаться': 'VERB'}, {'прогноз': 'NOUN'}, {'сегодня': 'NOUN'}, {'приятный': 'ADJ'}], [{'санкт': 'PROPN'}, {'петербург': 'PROPN'}, {'сегодня': 'ADV'}, {'ожидаться': 'VERB'}, {'+20': 'NUM'}, {'+18': 'NUM'}, {'°': 'X'}, {'c': 'NOUN'}, {'осадок': 'NOUN'}, {'лёгкий': 'ADJ'}, {'ветер': 'NOUN'}], [{'трудный': 'ADJ'}, {'ход': 'NOUN'}, {'назвать': 'VERB'}, {'фильм': 'NOUN'}, {'породить': 'VERB'}, {'столько': 'NUM'}, {'абсурдный': 'ADJ'}, {'пародия': 'NOUN'}, {'творение': 'NOUN'}, {'несмотря': 'ADV'}, {'трешовость': 'NOUN'}, {'снискал': 'VERB'}, {'огромный': 'ADJ'}, {'количество': 'NOUN'}, {'поклонник': 'NOUN'}], [{'трагикомедия': 'NOUN'}, {'показывать': 'VERB'}, {'последний': 'ADJ'}, {'день': 'NOUN'}, {'два': 'NUM'}, {'молодой': 'ADJ'}, {'человек': 'NOUN'}, {'смертельный': 'ADJ'}, {'диагноз': 'NOUN'}], [{'фильм': 'NOUN'}, {'тянуть': 'VERB'}, {'премия': 'NOUN'}, {'оскар': 'PROPN'}, {'проработанный': 'ADJ'}, {'сюжет': 'NOUN'}, {'красивый': 'ADJ'}, {'завораживать': 'VERB'}, {'картинка': 'NOUN'}, {'верить': 'VERB'}, {'умереть': 'VERB'}, {'конец': 'NOUN'}, {'фильм': 'NOUN'}], [{'просмотр': 'NOUN'}, {'фильм': 'NOUN'}, {'друг': 'NOUN'}, {'повторять': 'VERB'}, {'легендарный': 'ADJ'}, {'фраза': 'NOUN'}, {'главный': 'ADJ'}, {'герой': 'NOUN'}, {'водка': 'NOUN'}, {'внутри': 'ADV'}, {'снаружи': 'ADV'}, {'бутылка': 'NOUN'}, {'вонна': 'PROPN'}, {'плей': 'PROPN'}, {'лэтс': 'NOUN'}, {'плей': 'NOUN'}, {'забывать': 'VERB'}, {'делать': 'VERB'}, {'губа': 'NOUN'}, {'бантик': 'NOUN'}], [{'ковёр': 'NOUN'}, {'задавать': 'VERB'}, {'стиль': 'NOUN'}, {'комната': 'NOUN'}]]\n"
     ]
    }
   ],
   "source": [
    "import spacy\n",
    "from string import punctuation\n",
    "from spacy.lang.ru import stop_words\n",
    "\n",
    "nlp = spacy.load('ru_core_news_sm')\n",
    "\n",
    "stop_words = stop_words.STOP_WORDS\n",
    "punctuations = list(punctuation)\n",
    "\n",
    "token_collection= []\n",
    "vector = []\n",
    "\n",
    "lemmatized_collection = [[token.lemma_.lower() for token in nlp(text) if token.lemma_.lower() not in stop_words and token.lemma_.lower() not in punctuations and not token.pos_ == 'PUNCT'] for text in collection]\n",
    "\n",
    "lemmatized_collection_POS = [[{token.lemma_.lower(): token.pos_} for token in nlp(text) if token.lemma_.lower() not in stop_words and token.lemma_.lower() not in punctuations and not token.pos_ == 'PUNCT'] for text in collection]\n",
    "\n",
    "print(lemmatized_collection)\n",
    "print(lemmatized_collection_POS)\n",
    "\n",
    "# for i in range(len(collection)):\n",
    "#     doc = nlp(collection[i])\n",
    "#     token_collection.append([])\n",
    "#     vector.append(doc.vector)\n",
    "#     for token in doc:\n",
    "#         word = token.lemma_.lower()\n",
    "#         if (word not in stop_words and word not in punctuations):\n",
    "#             token_collection[i].append(word)\n",
    "            \n",
    "\n",
    "# print(token_collection)\n",
    "# print(vector)\n",
    "\n",
    "# verbs = [[token.lemma_.lower() for token in nlp(text) if token.pos_ == 'VERB'] for text in collection]\n",
    "# nouns = [[token.lemma_.lower() for token in nlp(text) if token.pos_ == 'NOUN'] for text in collection]\n",
    "# print(verbs)\n",
    "# print(nouns)"
   ]
  },
  {
   "cell_type": "code",
   "execution_count": 58,
   "metadata": {},
   "outputs": [],
   "source": [
    "from sklearn.feature_extraction.text import CountVectorizer, TfidfVectorizer\n",
    "from sklearn.metrics.pairwise import euclidean_distances, cosine_distances\n",
    "from sklearn.metrics import DistanceMetric\n",
    "from sklearn.cluster import KMeans, AgglomerativeClustering\n",
    "from sklearn.metrics import normalized_mutual_info_score, adjusted_rand_score, v_measure_score, homogeneity_score\n",
    "import numpy as np"
   ]
  },
  {
   "cell_type": "code",
   "execution_count": 146,
   "metadata": {},
   "outputs": [],
   "source": [
    "joined_lemm_collection = [' '.join(text) for text in lemmatized_collection]\n",
    "\n",
    "joined_nouns_collection = [' '.join(text) for text in [\n",
    "    [list(token.keys())[0] for token in lemmatized_text if list(token.values())[0] == \"NOUN\"]\n",
    "    for lemmatized_text in lemmatized_collection_POS\n",
    "]]\n",
    "\n",
    "joined_adj_nouns_collection = [' '.join(text) for text in [\n",
    "    [list(token.keys())[0] for token in lemmatized_text if list(token.values())[0] == \"NOUN\" or list(token.values())[0] == \"ADJ\"]\n",
    "    for lemmatized_text in lemmatized_collection_POS\n",
    "]]"
   ]
  },
  {
   "cell_type": "code",
   "execution_count": 147,
   "metadata": {},
   "outputs": [
    {
     "name": "stdout",
     "output_type": "stream",
     "text": [
      "['солнечный', 'солнечно конец день красносельский район ветер', 'сегодня солнечный ясный небо ни облачка появиться ночь чистый звёзды увидеть', 'температура опуститься 6 7 градус улица день высоко плюс 13 ощущение холод усиливать дождь начаться последний день неделя идти суток', 'сегодня ясный осадок атмосферный давление высоко норма', 'сегодня тёплый сентябрь погода небо ясный осадок ожидаться прогноз сегодня приятный', 'санкт петербург сегодня ожидаться +20 +18 ° c осадок лёгкий ветер', 'трудный ход назвать фильм породить столько абсурдный пародия творение несмотря трешовость снискал огромный количество поклонник', 'трагикомедия показывать последний день два молодой человек смертельный диагноз', 'фильм тянуть премия оскар проработанный сюжет красивый завораживать картинка верить умереть конец фильм', 'просмотр фильм друг повторять легендарный фраза главный герой водка внутри снаружи бутылка вонна плей лэтс плей забывать делать губа бантик', 'ковёр задавать стиль комната']\n",
      "['', 'конец день район ветер', 'небо облачка ночь', 'температура градус улица день ощущение холод дождь день неделя суток', 'осадок давление норма', 'сентябрь погода небо осадок прогноз сегодня', 'c осадок ветер', 'ход фильм пародия творение трешовость количество поклонник', 'трагикомедия день человек диагноз', 'фильм премия сюжет картинка конец фильм', 'просмотр фильм друг фраза герой водка бутылка лэтс плей губа бантик', 'ковёр стиль комната']\n",
      "['солнечный', 'конец день красносельский район ветер', 'солнечный ясный небо облачка ночь чистый звёзды', 'температура градус улица день высоко ощущение холод дождь последний день неделя суток', 'ясный осадок атмосферный давление высоко норма', 'тёплый сентябрь погода небо ясный осадок прогноз сегодня приятный', 'c осадок лёгкий ветер', 'трудный ход фильм абсурдный пародия творение трешовость огромный количество поклонник', 'трагикомедия последний день молодой человек смертельный диагноз', 'фильм премия проработанный сюжет красивый картинка конец фильм', 'просмотр фильм друг легендарный фраза главный герой водка бутылка лэтс плей губа бантик', 'ковёр стиль комната']\n"
     ]
    }
   ],
   "source": [
    "print(joined_lemm_collection)\n",
    "print(joined_nouns_collection)\n",
    "print(joined_adj_nouns_collection)"
   ]
  },
  {
   "cell_type": "code",
   "execution_count": 148,
   "metadata": {},
   "outputs": [],
   "source": [
    "vectorizer = TfidfVectorizer()\n",
    "\n",
    "vectors = vectorizer.fit_transform(joined_lemm_collection)\n",
    "vectors_adj_nouns = vectorizer.fit_transform(joined_adj_nouns_collection)\n",
    "vectors_nouns = vectorizer.fit_transform(joined_nouns_collection)\n",
    "\n",
    "euclidean_distance_matrix = euclidean_distances(vectors)\n",
    "euclidean_distance_matrix_adj_nouns = euclidean_distances(vectors_adj_nouns)\n",
    "euclidean_distance_matrix_nouns = euclidean_distances(vectors_nouns)\n",
    "\n",
    "cosine_distance_matrix = cosine_distances(vectors)\n",
    "cosine_distance_matrix_adj_nouns = cosine_distances(vectors_adj_nouns)\n",
    "cosine_distance_matrix_nouns = cosine_distances(vectors_nouns)\n",
    "\n",
    "jaccard_similarity_matrix = DistanceMetric.get_metric('jaccard').pairwise(vectors)\n",
    "jaccard_similarity_matrix_adj_nouns = DistanceMetric.get_metric('jaccard').pairwise(vectors_adj_nouns)\n",
    "jaccard_similarity_matrix_nouns = DistanceMetric.get_metric('jaccard').pairwise(vectors_nouns)"
   ]
  },
  {
   "cell_type": "code",
   "execution_count": 149,
   "metadata": {},
   "outputs": [],
   "source": [
    "true_labels = [0, 0, 0, 0, 0, 0, 0, 1, 1, 1, 1, 1]\n",
    "n_clusters = 2\n",
    "n_iterations = 50\n",
    "matrixes = [euclidean_distance_matrix, cosine_distance_matrix, jaccard_similarity_matrix]\n",
    "matrixes_adj_nouns = [euclidean_distance_matrix_adj_nouns, cosine_distance_matrix_adj_nouns, jaccard_similarity_matrix_adj_nouns]\n",
    "matrixes_nouns = [euclidean_distance_matrix_nouns, cosine_distance_matrix_nouns, jaccard_similarity_matrix_nouns]\n",
    "metrics = [normalized_mutual_info_score, adjusted_rand_score, v_measure_score, homogeneity_score]"
   ]
  },
  {
   "cell_type": "code",
   "execution_count": 155,
   "metadata": {},
   "outputs": [],
   "source": [
    "\n",
    "def cluster_kmeans(matrix, metrics, true_labels, n_iterations, n_clusters):\n",
    "    scores = {}\n",
    "    result = []\n",
    "    for metric in metrics:\n",
    "        scores.update({metric.__name__: []})\n",
    "\n",
    "\n",
    "    for i in range(n_iterations):\n",
    "        clusters = KMeans(n_clusters=n_clusters, n_init=10)\n",
    "        clusters.fit(matrix)\n",
    "\n",
    "        for metric in metrics:\n",
    "            score = metric(true_labels, clusters.labels_)\n",
    "            scores[metric.__name__].append(score)\n",
    "\n",
    "\n",
    "    for metric in scores:\n",
    "        max = np.max(scores[metric])\n",
    "        min = np.min(scores[metric])\n",
    "        avg = np.mean(scores[metric])\n",
    "\n",
    "        result.append(f'{metric}\\nMax: {max} iter: {scores[metric].index(max) + 1}\\nMin: {min} iter: {scores[metric].index(min) + 1}\\nAvg: {avg}\\n')\n",
    "        # print(metric)\n",
    "        # print(f'Max: {max} iter: {scores[metric].index(max) + 1}')\n",
    "        # print(f'Min: {min} iter: {scores[metric].index(min) + 1}')\n",
    "        # print(f'Avg: {avg}')\n",
    "    return '\\n'.join(result)"
   ]
  },
  {
   "cell_type": "code",
   "execution_count": 108,
   "metadata": {},
   "outputs": [
    {
     "name": "stdout",
     "output_type": "stream",
     "text": [
      "normalized_mutual_info_score\n",
      "Max: 0.48616894363355745 iter: 1\n",
      "Min: 0.36201225441690177 iter: 6\n",
      "Avg: 0.46133760579022626\n",
      "adjusted_rand_score\n",
      "Max: 0.391705069124424 iter: 1\n",
      "Min: 0.18331805682859761 iter: 6\n",
      "Avg: 0.3500276666652587\n",
      "v_measure_score\n",
      "Max: 0.48616894363355745 iter: 1\n",
      "Min: 0.3620122544169018 iter: 6\n",
      "Avg: 0.46133760579022626\n",
      "homogeneity_score\n",
      "Max: 0.48616894363355745 iter: 1\n",
      "Min: 0.35063820438777576 iter: 6\n",
      "Avg: 0.4590627957844011\n"
     ]
    }
   ],
   "source": [
    "print(cluster_kmeans(matrixes[0], metrics, true_labels, n_iterations, n_clusters))"
   ]
  },
  {
   "cell_type": "code",
   "execution_count": 156,
   "metadata": {},
   "outputs": [
    {
     "name": "stdout",
     "output_type": "stream",
     "text": [
      "+---------------+----------------------------------+-----------------------------------+-----------------------------------+\n",
      "| words         | euclidean                        | cosine                            | jaccard                           |\n",
      "+===============+==================================+===================================+===================================+\n",
      "| all words     | normalized_mutual_info_score     | normalized_mutual_info_score      | normalized_mutual_info_score      |\n",
      "|               | Max: 0.48616894363355745 iter: 1 | Max: 0.48616894363355745 iter: 1  | Max: 0.26414551957441684 iter: 1  |\n",
      "|               | Min: 0.36201225441690177 iter: 3 | Min: 0.36201225441690177 iter: 8  | Min: 0.26414551957441684 iter: 1  |\n",
      "|               | Avg: 0.46382073957455944         | Avg: 0.46382073957455944          | Avg: 0.26414551957441684          |\n",
      "|               |                                  |                                   |                                   |\n",
      "|               | adjusted_rand_score              | adjusted_rand_score               | adjusted_rand_score               |\n",
      "|               | Max: 0.391705069124424 iter: 1   | Max: 0.391705069124424 iter: 1    | Max: 0.04087193460490463 iter: 1  |\n",
      "|               | Min: 0.18331805682859761 iter: 3 | Min: 0.18331805682859761 iter: 8  | Min: 0.04087193460490463 iter: 1  |\n",
      "|               | Avg: 0.35419540691117524         | Avg: 0.3541954069111752           | Avg: 0.040871934604904625         |\n",
      "|               |                                  |                                   |                                   |\n",
      "|               | v_measure_score                  | v_measure_score                   | v_measure_score                   |\n",
      "|               | Max: 0.48616894363355745 iter: 1 | Max: 0.48616894363355745 iter: 1  | Max: 0.2641455195744168 iter: 1   |\n",
      "|               | Min: 0.3620122544169018 iter: 3  | Min: 0.3620122544169018 iter: 8   | Min: 0.2641455195744168 iter: 1   |\n",
      "|               | Avg: 0.46382073957455944         | Avg: 0.46382073957455944          | Avg: 0.2641455195744168           |\n",
      "|               |                                  |                                   |                                   |\n",
      "|               | homogeneity_score                | homogeneity_score                 | homogeneity_score                 |\n",
      "|               | Max: 0.48616894363355745 iter: 1 | Max: 0.48616894363355745 iter: 1  | Max: 0.2414218334514217 iter: 1   |\n",
      "|               | Min: 0.35063820438777576 iter: 3 | Min: 0.35063820438777576 iter: 8  | Min: 0.2414218334514217 iter: 1   |\n",
      "|               | Avg: 0.46177341056931676         | Avg: 0.46177341056931676          | Avg: 0.24142183345142176          |\n",
      "+---------------+----------------------------------+-----------------------------------+-----------------------------------+\n",
      "| adj and nouns | normalized_mutual_info_score     | normalized_mutual_info_score      | normalized_mutual_info_score      |\n",
      "|               | Max: 0.48616894363355745 iter: 2 | Max: 0.48616894363355745 iter: 1  | Max: 0.36201225441690177 iter: 1  |\n",
      "|               | Min: 0.26414551957441684 iter: 1 | Min: 0.36201225441690177 iter: 12 | Min: 0.36201225441690177 iter: 1  |\n",
      "|               | Avg: 0.46931280623070903         | Avg: 0.4663038733588925           | Avg: 0.3620122544169018           |\n",
      "|               |                                  |                                   |                                   |\n",
      "|               | adjusted_rand_score              | adjusted_rand_score               | adjusted_rand_score               |\n",
      "|               | Max: 0.391705069124424 iter: 2   | Max: 0.391705069124424 iter: 1    | Max: 0.18331805682859761 iter: 1  |\n",
      "|               | Min: 0.04087193460490463 iter: 1 | Min: 0.18331805682859761 iter: 12 | Min: 0.18331805682859761 iter: 1  |\n",
      "|               | Avg: 0.3638497052044509          | Avg: 0.3583631471570918           | Avg: 0.1833180568285976           |\n",
      "|               |                                  |                                   |                                   |\n",
      "|               | v_measure_score                  | v_measure_score                   | v_measure_score                   |\n",
      "|               | Max: 0.48616894363355745 iter: 2 | Max: 0.48616894363355745 iter: 1  | Max: 0.3620122544169018 iter: 1   |\n",
      "|               | Min: 0.2641455195744168 iter: 1  | Min: 0.3620122544169018 iter: 12  | Min: 0.3620122544169018 iter: 1   |\n",
      "|               | Avg: 0.46931280623070903         | Avg: 0.4663038733588925           | Avg: 0.36201225441690194          |\n",
      "|               |                                  |                                   |                                   |\n",
      "|               | homogeneity_score                | homogeneity_score                 | homogeneity_score                 |\n",
      "|               | Max: 0.48616894363355745 iter: 2 | Max: 0.48616894363355745 iter: 1  | Max: 0.35063820438777576 iter: 1  |\n",
      "|               | Min: 0.2414218334514217 iter: 1  | Min: 0.35063820438777576 iter: 12 | Min: 0.35063820438777576 iter: 1  |\n",
      "|               | Avg: 0.4677209275053366          | Avg: 0.46448402535423233          | Avg: 0.3506382043877757           |\n",
      "+---------------+----------------------------------+-----------------------------------+-----------------------------------+\n",
      "| nouns         | normalized_mutual_info_score     | normalized_mutual_info_score      | normalized_mutual_info_score      |\n",
      "|               | Max: 0.6615161167901186 iter: 5  | Max: 0.36201225441690177 iter: 1  | Max: 0.17981006986086293 iter: 1  |\n",
      "|               | Min: 0.26414551957441684 iter: 6 | Min: 0.36201225441690177 iter: 1  | Min: 0.17981006986086293 iter: 1  |\n",
      "|               | Avg: 0.40004321444264174         | Avg: 0.3620122544169018           | Avg: 0.17981006986086295          |\n",
      "|               |                                  |                                   |                                   |\n",
      "|               | adjusted_rand_score              | adjusted_rand_score               | adjusted_rand_score               |\n",
      "|               | Max: 0.6648199445983379 iter: 5  | Max: 0.18331805682859761 iter: 1  | Max: -0.03587443946188341 iter: 1 |\n",
      "|               | Min: 0.04087193460490463 iter: 6 | Min: 0.18331805682859761 iter: 1  | Min: -0.03587443946188341 iter: 1 |\n",
      "|               | Avg: 0.2596810086563017          | Avg: 0.1833180568285976           | Avg: -0.03587443946188341         |\n",
      "|               |                                  |                                   |                                   |\n",
      "|               | v_measure_score                  | v_measure_score                   | v_measure_score                   |\n",
      "|               | Max: 0.6615161167901186 iter: 5  | Max: 0.3620122544169018 iter: 1   | Max: 0.17981006986086293 iter: 1  |\n",
      "|               | Min: 0.2641455195744168 iter: 6  | Min: 0.3620122544169018 iter: 1   | Min: 0.17981006986086293 iter: 1  |\n",
      "|               | Avg: 0.4000432144426418          | Avg: 0.36201225441690194          | Avg: 0.17981006986086295          |\n",
      "|               |                                  |                                   |                                   |\n",
      "|               | homogeneity_score                | homogeneity_score                 | homogeneity_score                 |\n",
      "|               | Max: 0.6683114870046969 iter: 5  | Max: 0.35063820438777576 iter: 1  | Max: 0.14954596962416256 iter: 1  |\n",
      "|               | Min: 0.2414218334514217 iter: 6  | Min: 0.35063820438777576 iter: 1  | Min: 0.14954596962416256 iter: 1  |\n",
      "|               | Avg: 0.3887766715377684          | Avg: 0.3506382043877757           | Avg: 0.14954596962416253          |\n",
      "+---------------+----------------------------------+-----------------------------------+-----------------------------------+\n"
     ]
    }
   ],
   "source": [
    "from tabulate import tabulate\n",
    "\n",
    "headers = ['words', 'euclidean', 'cosine', 'jaccard']\n",
    "\n",
    "arr = [['all words'], ['adj and nouns'], ['nouns']]\n",
    "\n",
    "for matrix in matrixes:\n",
    "    arr[0].append(cluster_kmeans(matrix, metrics, true_labels, n_iterations, n_clusters))\n",
    "for matrix in matrixes_adj_nouns:\n",
    "    arr[1].append(cluster_kmeans(matrix, metrics, true_labels, n_iterations, n_clusters))\n",
    "for matrix in matrixes_nouns:\n",
    "    arr[2].append(cluster_kmeans(matrix, metrics, true_labels, n_iterations, n_clusters))\n",
    "\n",
    "print(tabulate(arr, headers, tablefmt='grid'))"
   ]
  },
  {
   "cell_type": "code",
   "execution_count": 170,
   "metadata": {},
   "outputs": [],
   "source": [
    "# import matplotlib.pyplot as plt\n",
    "# from scipy.cluster.hierarchy import dendrogram\n",
    "\n",
    "def cluster_hierarchy(matrix, metrics, true_labels, num_clusters):\n",
    "    linkages = [\"complete\", \"average\", \"single\"]\n",
    "    result = []\n",
    "\n",
    "    if matrix.shape[0] != matrix.shape[1]:\n",
    "        affinity = \"euclidean\"\n",
    "        matrix = matrix.toarray()\n",
    "        linkages.append(\"ward\")\n",
    "    else:\n",
    "        affinity = \"precomputed\"\n",
    "\n",
    "    for linkage in linkages:\n",
    "        result.append('\\n')\n",
    "        result.append(linkage)\n",
    "        result.append('---------')\n",
    "        # print(linkage)\n",
    "        agg_clustering = AgglomerativeClustering(n_clusters=num_clusters, metric=affinity, linkage=linkage)\n",
    "\n",
    "        agg_clustering.fit(matrix)\n",
    "\n",
    "        for metric in metrics:\n",
    "            score = metric(true_labels, agg_clustering.labels_)\n",
    "            result.append(f\"{metric.__name__}: {score}\")\n",
    "            # print(f\"{metric.__name__}: \", score)\n",
    "\n",
    "        # plt.figure(figsize=[12, 12])\n",
    "        # plt.subplot(4, 1, linkages.index(linkage) + 1)\n",
    "        # children = agg_clustering.children_\n",
    "        # distance = np.arange(children.shape[0])\n",
    "        # num_of_observations = np.arange(2, children.shape[0] + 2)\n",
    "        # linkage_matrix = np.column_stack([children, distance, num_of_observations]).astype(float)\n",
    "        # dendrogram(linkage_matrix)\n",
    "\n",
    "    return '\\n'.join(result)\n",
    "\n",
    "    # plt.show()\n",
    "        "
   ]
  },
  {
   "cell_type": "code",
   "execution_count": 154,
   "metadata": {},
   "outputs": [
    {
     "name": "stdout",
     "output_type": "stream",
     "text": [
      "complete\n",
      "\n",
      "normalized_mutual_info_score:  0.3011976225492563\n",
      "\n",
      "adjusted_rand_score:  0.20089686098654708\n",
      "\n",
      "v_measure_score:  0.30119762254925636\n",
      "\n",
      "homogeneity_score:  0.2505026028157114\n",
      "average\n",
      "\n",
      "normalized_mutual_info_score:  0.16217929907568504\n",
      "\n",
      "adjusted_rand_score:  0.06796116504854369\n",
      "\n",
      "v_measure_score:  0.16217929907568504\n",
      "\n",
      "homogeneity_score:  0.11533532084453771\n",
      "single\n",
      "\n",
      "normalized_mutual_info_score:  0.16217929907568504\n",
      "\n",
      "adjusted_rand_score:  0.06796116504854369\n",
      "\n",
      "v_measure_score:  0.16217929907568504\n",
      "\n",
      "homogeneity_score:  0.11533532084453771\n"
     ]
    },
    {
     "data": {
      "image/png": "[encoded data removed]",
      "text/plain": [
       "<Figure size 1200x1200 with 1 Axes>"
      ]
     },
     "metadata": {},
     "output_type": "display_data"
    },
    {
     "data": {
      "image/png": "[encoded data removed]",
      "text/plain": [
       "<Figure size 1200x1200 with 1 Axes>"
      ]
     },
     "metadata": {},
     "output_type": "display_data"
    },
    {
     "data": {
      "image/png": "[encoded data removed]",
      "text/plain": [
       "<Figure size 1200x1200 with 1 Axes>"
      ]
     },
     "metadata": {},
     "output_type": "display_data"
    }
   ],
   "source": [
    "cluster_hierarchy(matrixes[0], metrics, true_labels, n_clusters)"
   ]
  },
  {
   "cell_type": "code",
   "execution_count": 171,
   "metadata": {},
   "outputs": [
    {
     "name": "stdout",
     "output_type": "stream",
     "text": [
      "+---------------+---------------------------------------------------+---------------------------------------------------+---------------------------------------------------+\n",
      "| words         | euclidean                                         | cosine                                            | jaccard                                           |\n",
      "+===============+===================================================+===================================================+===================================================+\n",
      "| all words     | complete                                          | complete                                          | complete                                          |\n",
      "|               | ---------                                         | ---------                                         | ---------                                         |\n",
      "|               | normalized_mutual_info_score: 0.3011976225492563  | normalized_mutual_info_score: 0.16217929907568504 | normalized_mutual_info_score: 0.16217929907568504 |\n",
      "|               | adjusted_rand_score: 0.20089686098654708          | adjusted_rand_score: 0.06796116504854369          | adjusted_rand_score: 0.06796116504854369          |\n",
      "|               | v_measure_score: 0.30119762254925636              | v_measure_score: 0.16217929907568504              | v_measure_score: 0.16217929907568504              |\n",
      "|               | homogeneity_score: 0.2505026028157114             | homogeneity_score: 0.11533532084453771            | homogeneity_score: 0.11533532084453771            |\n",
      "|               |                                                   |                                                   |                                                   |\n",
      "|               |                                                   |                                                   |                                                   |\n",
      "|               | average                                           | average                                           | average                                           |\n",
      "|               | ---------                                         | ---------                                         | ---------                                         |\n",
      "|               | normalized_mutual_info_score: 0.16217929907568504 | normalized_mutual_info_score: 0.16217929907568504 | normalized_mutual_info_score: 0.16217929907568504 |\n",
      "|               | adjusted_rand_score: 0.06796116504854369          | adjusted_rand_score: 0.06796116504854369          | adjusted_rand_score: 0.06796116504854369          |\n",
      "|               | v_measure_score: 0.16217929907568504              | v_measure_score: 0.16217929907568504              | v_measure_score: 0.16217929907568504              |\n",
      "|               | homogeneity_score: 0.11533532084453771            | homogeneity_score: 0.11533532084453771            | homogeneity_score: 0.11533532084453771            |\n",
      "|               |                                                   |                                                   |                                                   |\n",
      "|               |                                                   |                                                   |                                                   |\n",
      "|               | single                                            | single                                            | single                                            |\n",
      "|               | ---------                                         | ---------                                         | ---------                                         |\n",
      "|               | normalized_mutual_info_score: 0.16217929907568504 | normalized_mutual_info_score: 0.16217929907568504 | normalized_mutual_info_score: 0.16217929907568504 |\n",
      "|               | adjusted_rand_score: 0.06796116504854369          | adjusted_rand_score: 0.06796116504854369          | adjusted_rand_score: 0.06796116504854369          |\n",
      "|               | v_measure_score: 0.16217929907568504              | v_measure_score: 0.16217929907568504              | v_measure_score: 0.16217929907568504              |\n",
      "|               | homogeneity_score: 0.11533532084453771            | homogeneity_score: 0.11533532084453771            | homogeneity_score: 0.11533532084453771            |\n",
      "+---------------+---------------------------------------------------+---------------------------------------------------+---------------------------------------------------+\n",
      "| adj and nouns | complete                                          | complete                                          | complete                                          |\n",
      "|               | ---------                                         | ---------                                         | ---------                                         |\n",
      "|               | normalized_mutual_info_score: 0.16217929907568504 | normalized_mutual_info_score: 0.16217929907568504 | normalized_mutual_info_score: 0.16217929907568504 |\n",
      "|               | adjusted_rand_score: 0.06796116504854369          | adjusted_rand_score: 0.06796116504854369          | adjusted_rand_score: 0.06796116504854369          |\n",
      "|               | v_measure_score: 0.16217929907568504              | v_measure_score: 0.16217929907568504              | v_measure_score: 0.16217929907568504              |\n",
      "|               | homogeneity_score: 0.11533532084453771            | homogeneity_score: 0.11533532084453771            | homogeneity_score: 0.11533532084453771            |\n",
      "|               |                                                   |                                                   |                                                   |\n",
      "|               |                                                   |                                                   |                                                   |\n",
      "|               | average                                           | average                                           | average                                           |\n",
      "|               | ---------                                         | ---------                                         | ---------                                         |\n",
      "|               | normalized_mutual_info_score: 0.16217929907568504 | normalized_mutual_info_score: 0.16217929907568504 | normalized_mutual_info_score: 0.16217929907568504 |\n",
      "|               | adjusted_rand_score: 0.06796116504854369          | adjusted_rand_score: 0.06796116504854369          | adjusted_rand_score: 0.06796116504854369          |\n",
      "|               | v_measure_score: 0.16217929907568504              | v_measure_score: 0.16217929907568504              | v_measure_score: 0.16217929907568504              |\n",
      "|               | homogeneity_score: 0.11533532084453771            | homogeneity_score: 0.11533532084453771            | homogeneity_score: 0.11533532084453771            |\n",
      "|               |                                                   |                                                   |                                                   |\n",
      "|               |                                                   |                                                   |                                                   |\n",
      "|               | single                                            | single                                            | single                                            |\n",
      "|               | ---------                                         | ---------                                         | ---------                                         |\n",
      "|               | normalized_mutual_info_score: 0.16217929907568504 | normalized_mutual_info_score: 0.16217929907568504 | normalized_mutual_info_score: 0.16217929907568504 |\n",
      "|               | adjusted_rand_score: 0.06796116504854369          | adjusted_rand_score: 0.06796116504854369          | adjusted_rand_score: 0.06796116504854369          |\n",
      "|               | v_measure_score: 0.16217929907568504              | v_measure_score: 0.16217929907568504              | v_measure_score: 0.16217929907568504              |\n",
      "|               | homogeneity_score: 0.11533532084453771            | homogeneity_score: 0.11533532084453771            | homogeneity_score: 0.11533532084453771            |\n",
      "+---------------+---------------------------------------------------+---------------------------------------------------+---------------------------------------------------+\n",
      "| nouns         | complete                                          | complete                                          | complete                                          |\n",
      "|               | ---------                                         | ---------                                         | ---------                                         |\n",
      "|               | normalized_mutual_info_score: 0.16217929907568504 | normalized_mutual_info_score: 0.16217929907568504 | normalized_mutual_info_score: 0.16217929907568504 |\n",
      "|               | adjusted_rand_score: 0.06796116504854369          | adjusted_rand_score: 0.06796116504854369          | adjusted_rand_score: 0.06796116504854369          |\n",
      "|               | v_measure_score: 0.16217929907568504              | v_measure_score: 0.16217929907568504              | v_measure_score: 0.16217929907568504              |\n",
      "|               | homogeneity_score: 0.11533532084453771            | homogeneity_score: 0.11533532084453771            | homogeneity_score: 0.11533532084453771            |\n",
      "|               |                                                   |                                                   |                                                   |\n",
      "|               |                                                   |                                                   |                                                   |\n",
      "|               | average                                           | average                                           | average                                           |\n",
      "|               | ---------                                         | ---------                                         | ---------                                         |\n",
      "|               | normalized_mutual_info_score: 0.16217929907568504 | normalized_mutual_info_score: 0.16217929907568504 | normalized_mutual_info_score: 0.16217929907568504 |\n",
      "|               | adjusted_rand_score: 0.06796116504854369          | adjusted_rand_score: 0.06796116504854369          | adjusted_rand_score: 0.06796116504854369          |\n",
      "|               | v_measure_score: 0.16217929907568504              | v_measure_score: 0.16217929907568504              | v_measure_score: 0.16217929907568504              |\n",
      "|               | homogeneity_score: 0.11533532084453771            | homogeneity_score: 0.11533532084453771            | homogeneity_score: 0.11533532084453771            |\n",
      "|               |                                                   |                                                   |                                                   |\n",
      "|               |                                                   |                                                   |                                                   |\n",
      "|               | single                                            | single                                            | single                                            |\n",
      "|               | ---------                                         | ---------                                         | ---------                                         |\n",
      "|               | normalized_mutual_info_score: 0.16217929907568504 | normalized_mutual_info_score: 0.16217929907568504 | normalized_mutual_info_score: 0.16217929907568504 |\n",
      "|               | adjusted_rand_score: 0.06796116504854369          | adjusted_rand_score: 0.06796116504854369          | adjusted_rand_score: 0.06796116504854369          |\n",
      "|               | v_measure_score: 0.16217929907568504              | v_measure_score: 0.16217929907568504              | v_measure_score: 0.16217929907568504              |\n",
      "|               | homogeneity_score: 0.11533532084453771            | homogeneity_score: 0.11533532084453771            | homogeneity_score: 0.11533532084453771            |\n",
      "+---------------+---------------------------------------------------+---------------------------------------------------+---------------------------------------------------+\n"
     ]
    }
   ],
   "source": [
    "headers = ['words', 'euclidean', 'cosine', 'jaccard']\n",
    "\n",
    "arr = [['all words'], ['adj and nouns'], ['nouns']]\n",
    "\n",
    "for matrix in matrixes:\n",
    "    arr[0].append(cluster_hierarchy(matrix, metrics, true_labels, n_clusters))\n",
    "for matrix in matrixes_adj_nouns:\n",
    "    arr[1].append(cluster_hierarchy(matrix, metrics, true_labels, n_clusters))\n",
    "for matrix in matrixes_nouns:\n",
    "    arr[2].append(cluster_hierarchy(matrix, metrics, true_labels, n_clusters))\n",
    "\n",
    "print(tabulate(arr, headers, tablefmt='grid'))"
   ]
  }
 ],
 "metadata": {
  "kernelspec": {
   "display_name": "venv",
   "language": "python",
   "name": "python3"
  },
  "language_info": {
   "codemirror_mode": {
    "name": "ipython",
    "version": 3
   },
   "file_extension": ".py",
   "mimetype": "text/x-python",
   "name": "python",
   "nbconvert_exporter": "python",
   "pygments_lexer": "ipython3",
   "version": "3.10.8"
  },
  "orig_nbformat": 4
 },
 "nbformat": 4,
 "nbformat_minor": 2
}
