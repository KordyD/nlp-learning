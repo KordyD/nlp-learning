{
 "cells": [
  {
   "cell_type": "code",
   "execution_count": 2,
   "metadata": {},
   "outputs": [],
   "source": [
    "from sklearn.datasets import fetch_20newsgroups\n",
    "from sklearn.model_selection import train_test_split\n",
    "from sklearn.metrics import f1_score\n",
    "import spacy\n",
    "\n",
    "from gensim import corpora, models\n",
    "\n",
    "from sklearn.feature_extraction.text import TfidfVectorizer\n",
    "\n",
    "from gensim.models import Word2Vec\n",
    "from tabulate import tabulate"
   ]
  },
  {
   "cell_type": "code",
   "execution_count": 3,
   "metadata": {},
   "outputs": [],
   "source": [
    "from sklearn.svm import SVC\n",
    "\n",
    "from sklearn.naive_bayes import GaussianNB\n",
    "\n",
    "from sklearn import tree\n",
    "\n",
    "from sklearn.ensemble import RandomForestClassifier\n",
    "\n",
    "from sklearn.ensemble import AdaBoostClassifier\n",
    "\n",
    "from sklearn.neural_network import MLPClassifier"
   ]
  },
  {
   "cell_type": "code",
   "execution_count": 4,
   "metadata": {},
   "outputs": [],
   "source": [
    "from spacy.lang.en import stop_words\n",
    "from string import punctuation"
   ]
  },
  {
   "cell_type": "code",
   "execution_count": 5,
   "metadata": {},
   "outputs": [],
   "source": [
    "import numpy as np\n",
    "import pandas as pd"
   ]
  },
  {
   "cell_type": "code",
   "execution_count": 5,
   "metadata": {},
   "outputs": [],
   "source": [
    "categories = [\"comp.graphics\", \"rec.autos\", \"sci.med\", \"talk.politics.mideast\"]\n",
    "news_groups = fetch_20newsgroups(\n",
    "    subset=\"all\",\n",
    "    categories=categories,\n",
    "    remove=(\"headers\", \"footers\", \"quotes\"),\n",
    "    shuffle=False,\n",
    ")"
   ]
  },
  {
   "cell_type": "code",
   "execution_count": 7,
   "metadata": {},
   "outputs": [],
   "source": [
    "import re\n",
    "\n",
    "cleaned_collection = [re.sub(r\"[\\n\\t]+| {2,}\", \" \", text) for text in news_groups.data]"
   ]
  },
  {
   "cell_type": "code",
   "execution_count": 8,
   "metadata": {},
   "outputs": [],
   "source": [
    "nlp = spacy.load(\"en_core_web_sm\")"
   ]
  },
  {
   "cell_type": "code",
   "execution_count": 9,
   "metadata": {},
   "outputs": [],
   "source": [
    "stop_words = stop_words.STOP_WORDS\n",
    "punctuations = list(punctuation)\n",
    "\n",
    "token_collection = []\n",
    "vector = []\n",
    "\n",
    "lemmatized_collection = [\n",
    "    [\n",
    "        (token.lemma_.lower(), token.pos_)\n",
    "        for token in nlp(text)\n",
    "        if token.lemma_.lower() not in stop_words\n",
    "        and token.lemma_.lower() not in punctuations\n",
    "        and not token.pos_ == \"PUNCT\"\n",
    "        and not token.pos_ == \"SPACE\"\n",
    "    ]\n",
    "    for text in cleaned_collection\n",
    "]"
   ]
  },
  {
   "cell_type": "code",
   "execution_count": 10,
   "metadata": {},
   "outputs": [],
   "source": [
    "lemm_texts = [\n",
    "    \" \".join(text)\n",
    "    for text in [\n",
    "        [token[0] for token in lemmatized_text]\n",
    "        for lemmatized_text in lemmatized_collection\n",
    "    ]\n",
    "]\n",
    "\n",
    "lemm_texts_nouns_adj = [\n",
    "    \" \".join(text)\n",
    "    for text in [\n",
    "        [\n",
    "            token[0]\n",
    "            for token in lemmatized_text\n",
    "            if token[1] == \"NOUN\" or token[1] == \"ADJ\"\n",
    "        ]\n",
    "        for lemmatized_text in lemmatized_collection\n",
    "    ]\n",
    "]\n",
    "\n",
    "lemm_texts = [text.split() for text in lemm_texts]\n",
    "lemm_texts_nouns_adj = [text.split() for text in lemm_texts_nouns_adj]"
   ]
  },
  {
   "cell_type": "code",
   "execution_count": 19,
   "metadata": {},
   "outputs": [],
   "source": [
    "# 6\n",
    "svc = SVC()\n",
    "gnb = GaussianNB()\n",
    "dec_tree = tree.DecisionTreeClassifier()"
   ]
  },
  {
   "cell_type": "code",
   "execution_count": 11,
   "metadata": {},
   "outputs": [],
   "source": [
    "# 7\n",
    "rfc = RandomForestClassifier(max_depth=3)\n",
    "abc = AdaBoostClassifier(n_estimators=100)\n",
    "mlpc = MLPClassifier(hidden_layer_sizes=(100,))"
   ]
  },
  {
   "cell_type": "code",
   "execution_count": 12,
   "metadata": {},
   "outputs": [],
   "source": [
    "def tfidf_vectorize(data):\n",
    "    data = [' '.join(d) for d in data]\n",
    "    tfidf_vectorizer = TfidfVectorizer()\n",
    "    \n",
    "    return tfidf_vectorizer.fit_transform(data).toarray()"
   ]
  },
  {
   "cell_type": "code",
   "execution_count": 13,
   "metadata": {},
   "outputs": [],
   "source": [
    "def word2vec_vectorize(data):\n",
    "    model = Word2Vec(sentences=data, vector_size=100, min_count=1, workers=4)\n",
    "\n",
    "    def document_vector(model, tokenized_document):\n",
    "        vectors = [model.wv[word] for word in tokenized_document if word in model.wv]\n",
    "        return np.mean(vectors, axis=0) if vectors else np.zeros(model.vector_size)\n",
    "    \n",
    "    return np.array([document_vector(model, doc) for doc in data])"
   ]
  },
  {
   "cell_type": "code",
   "execution_count": 14,
   "metadata": {},
   "outputs": [],
   "source": [
    "def LDA_vectorize(data):\n",
    "    num_topics = 8\n",
    "    text_vectors = []\n",
    "\n",
    "    dictionary = corpora.Dictionary(data)\n",
    "    bow_corpus = [dictionary.doc2bow(doc) for doc in data]\n",
    "\n",
    "    model = models.LdaModel(bow_corpus, id2word=dictionary, num_topics=num_topics, passes=15)\n",
    "\n",
    "    for doc_bow in bow_corpus:\n",
    "        document_topics = model.get_document_topics(doc_bow)\n",
    "        document_topic_vector = [topic_prob for _, topic_prob in document_topics]\n",
    "        text_vectors.append(document_topic_vector)\n",
    "\n",
    "    return np.array(text_vectors)"
   ]
  },
  {
   "cell_type": "code",
   "execution_count": 15,
   "metadata": {},
   "outputs": [],
   "source": [
    "def classify(model, train_data, test_data, train_target, test_target):\n",
    "    model.fit(train_data, train_target)\n",
    "\n",
    "    predictions = model.predict(test_data)\n",
    "\n",
    "    f1 = f1_score(test_target, predictions, average='weighted')\n",
    "\n",
    "    res = f'F1 Score: {f1:.4f}'\n",
    "    return res "
   ]
  },
  {
   "cell_type": "code",
   "execution_count": 16,
   "metadata": {},
   "outputs": [],
   "source": [
    "def main(dataset, tokinizers, classifiers, lemm_texts, lemm_texts_nouns_adj):\n",
    "    df = pd.DataFrame(\n",
    "        \"\",\n",
    "        index=[tokinizer for tokinizer in tokinizers],\n",
    "        columns=[classifier for classifier in classifiers],\n",
    "    )\n",
    "\n",
    "    list_of_data = {\"ALL\": lemm_texts, \"NOUNS and ADJ\": lemm_texts_nouns_adj}\n",
    "\n",
    "    for classifier in classifiers:\n",
    "        for name, data in list_of_data.items():\n",
    "            for tokinizer in tokinizers:\n",
    "                vectors = tokinizers[tokinizer](data)\n",
    "                train_data, test_data, train_target, test_target = train_test_split(\n",
    "                    vectors, dataset.target, test_size=0.2)\n",
    "                df.loc[tokinizer, classifier] = (\n",
    "                    df.loc[tokinizer, classifier]\n",
    "                    + name\n",
    "                    + \": \"\n",
    "                    + classify(\n",
    "                        classifiers[classifier],\n",
    "                        train_data,\n",
    "                        test_data,\n",
    "                        train_target,\n",
    "                        test_target,\n",
    "                    )\n",
    "                    + \"\\n\"\n",
    "                )\n",
    "\n",
    "    return df"
   ]
  },
  {
   "cell_type": "code",
   "execution_count": 17,
   "metadata": {},
   "outputs": [],
   "source": [
    "tokinizers = {\n",
    "    \"tfidf\": tfidf_vectorize,\n",
    "    \"LDA\": LDA_vectorize,\n",
    "    \"word2vec\": word2vec_vectorize\n",
    "}\n",
    "\n",
    "classifiers = {\n",
    "    \"SVM\": svc,\n",
    "    \"Naive Bayes\": gnb,\n",
    "    \"Decision Trees\": dec_tree,\n",
    "    \"Random Forest\": rfc,\n",
    "    \"Ada Boost classifier\": abc,\n",
    "    \"MLP\": mlpc\n",
    "}\n"
   ]
  },
  {
   "cell_type": "code",
   "execution_count": null,
   "metadata": {},
   "outputs": [],
   "source": [
    "df = main(news_groups, tokinizers, classifiers, lemm_texts, lemm_texts_nouns_adj)"
   ]
  },
  {
   "cell_type": "code",
   "execution_count": 25,
   "metadata": {},
   "outputs": [
    {
     "name": "stdout",
     "output_type": "stream",
     "text": [
      "+----------+---------------------------------+---------------------------------+---------------------------------+---------------------------------+---------------------------------+---------------------------------+\n",
      "|          | SVM                             | Naive Bayes                     | Decision Trees                  | Random Forest                   | Ada Boost classifier            | MLP                             |\n",
      "+==========+=================================+=================================+=================================+=================================+=================================+=================================+\n",
      "| tfidf    | ALL: F1 Score: 0.9066           | ALL: F1 Score: 0.8593           | ALL: F1 Score: 0.7674           | ALL: F1 Score: 0.7669           | ALL: F1 Score: 0.7756           | ALL: F1 Score: 0.9095           |\n",
      "|          | NOUNS and ADJ: F1 Score: 0.8686 | NOUNS and ADJ: F1 Score: 0.7945 | NOUNS and ADJ: F1 Score: 0.7456 | NOUNS and ADJ: F1 Score: 0.7535 | NOUNS and ADJ: F1 Score: 0.7270 | NOUNS and ADJ: F1 Score: 0.8598 |\n",
      "+----------+---------------------------------+---------------------------------+---------------------------------+---------------------------------+---------------------------------+---------------------------------+\n",
      "| LDA      | ALL: F1 Score: 0.7306           | ALL: F1 Score: 0.7969           | ALL: F1 Score: 0.7689           | ALL: F1 Score: 0.7017           | ALL: F1 Score: 0.8010           | ALL: F1 Score: 0.7089           |\n",
      "|          | NOUNS and ADJ: F1 Score: 0.8076 | NOUNS and ADJ: F1 Score: 0.7134 | NOUNS and ADJ: F1 Score: 0.7152 | NOUNS and ADJ: F1 Score: 0.8074 | NOUNS and ADJ: F1 Score: 0.7986 | NOUNS and ADJ: F1 Score: 0.8051 |\n",
      "+----------+---------------------------------+---------------------------------+---------------------------------+---------------------------------+---------------------------------+---------------------------------+\n",
      "| word2vec | ALL: F1 Score: 0.7834           | ALL: F1 Score: 0.6788           | ALL: F1 Score: 0.7317           | ALL: F1 Score: 0.7608           | ALL: F1 Score: 0.7360           | ALL: F1 Score: 0.8358           |\n",
      "|          | NOUNS and ADJ: F1 Score: 0.7750 | NOUNS and ADJ: F1 Score: 0.6695 | NOUNS and ADJ: F1 Score: 0.7587 | NOUNS and ADJ: F1 Score: 0.7920 | NOUNS and ADJ: F1 Score: 0.7850 | NOUNS and ADJ: F1 Score: 0.8346 |\n",
      "+----------+---------------------------------+---------------------------------+---------------------------------+---------------------------------+---------------------------------+---------------------------------+\n"
     ]
    }
   ],
   "source": [
    "print(tabulate(df, headers=\"keys\", tablefmt=\"grid\"))"
   ]
  }
 ],
 "metadata": {
  "kernelspec": {
   "display_name": "venv",
   "language": "python",
   "name": "python3"
  },
  "language_info": {
   "codemirror_mode": {
    "name": "ipython",
    "version": 3
   },
   "file_extension": ".py",
   "mimetype": "text/x-python",
   "name": "python",
   "nbconvert_exporter": "python",
   "pygments_lexer": "ipython3",
   "version": "3.10.8"
  }
 },
 "nbformat": 4,
 "nbformat_minor": 2
}
